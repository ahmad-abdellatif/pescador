{
 "cells": [
  {
   "cell_type": "markdown",
   "metadata": {},
   "source": [
    "# Pescador demo\n",
    "\n",
    "This notebook illustrates some of the basic functionality of [pescador](https://github.com/bmcfee/pescador): a package to facilitate iterative learning from data streams (implemented as python generators)."
   ]
  },
  {
   "cell_type": "code",
   "execution_count": 1,
   "metadata": {
    "collapsed": true
   },
   "outputs": [],
   "source": [
    "import pescador\n",
    "\n",
    "import numpy as np\n",
    "np.set_printoptions(precision=4)\n",
    "import sklearn\n",
    "import sklearn.datasets\n",
    "import sklearn.linear_model\n",
    "import sklearn.cross_validation\n",
    "import sklearn.metrics"
   ]
  },
  {
   "cell_type": "code",
   "execution_count": 2,
   "metadata": {
    "collapsed": false
   },
   "outputs": [],
   "source": [
    "def data_generator(X, Y, m=20, scale = 1e-1):\n",
    "    '''A gaussian noise generator for data\n",
    "    \n",
    "    Parameters\n",
    "    ----------\n",
    "    X : ndarray\n",
    "        features, n_samples by dimensions\n",
    "        \n",
    "    Y : ndarray\n",
    "        labels, n_samples\n",
    "        \n",
    "    m : int\n",
    "        size of the minibatches to generate\n",
    "        \n",
    "    scale : float > 0\n",
    "        scale of the noise to add\n",
    "        \n",
    "    Generates\n",
    "    ---------\n",
    "    batch\n",
    "        An infinite stream of batch dictionaries\n",
    "        batch = dict(X=X[i], Y=Y[i])\n",
    "    '''\n",
    "    \n",
    "    X = np.atleast_2d(X)\n",
    "    Y = np.atleast_1d(Y)\n",
    "\n",
    "    n, d = X.shape\n",
    "    \n",
    "    while True:\n",
    "        i = np.random.randint(0, n, size=m)\n",
    "        \n",
    "        noise = scale * np.random.randn(m, d)\n",
    "        \n",
    "        yield {'X': X[i] + noise, 'Y': Y[i]}"
   ]
  },
  {
   "cell_type": "code",
   "execution_count": 3,
   "metadata": {
    "collapsed": true
   },
   "outputs": [],
   "source": [
    "# Load up the iris dataset for the demo\n",
    "data = sklearn.datasets.load_iris()\n",
    "X, Y = data.data, data.target\n",
    "classes = np.unique(Y)"
   ]
  },
  {
   "cell_type": "code",
   "execution_count": 4,
   "metadata": {
    "collapsed": false
   },
   "outputs": [
    {
     "name": "stdout",
     "output_type": "stream",
     "text": [
      "{'Y': array([1, 1, 2]), 'X': array([[ 5.3542,  2.1554,  4.1925,  1.2063],\n",
      "       [ 6.948 ,  3.0258,  4.8126,  1.4288],\n",
      "       [ 6.8807,  3.0223,  5.1551,  2.3169]])}\n",
      "{'Y': array([0, 2, 1]), 'X': array([[ 4.6828,  3.1631,  1.5653,  0.06  ],\n",
      "       [ 7.294 ,  3.0888,  6.5113,  2.17  ],\n",
      "       [ 6.2679,  2.6062,  5.0636,  1.5904]])}\n",
      "{'Y': array([0, 2, 0]), 'X': array([[ 4.7073,  3.5406,  1.052 ,  0.3011],\n",
      "       [ 6.6355,  3.2431,  4.945 ,  1.9572],\n",
      "       [ 5.126 ,  3.6004,  1.4447,  0.1314]])}\n",
      "{'Y': array([1, 2, 0]), 'X': array([[ 6.8064,  3.0182,  4.4771,  1.273 ],\n",
      "       [ 7.2639,  3.0231,  5.6306,  1.5871],\n",
      "       [ 5.7686,  3.8879,  1.7202,  0.3382]])}\n",
      "{'Y': array([0, 1, 1]), 'X': array([[ 5.2804,  3.5421,  1.3413,  0.5314],\n",
      "       [ 5.9817,  2.7778,  4.5351,  1.7357],\n",
      "       [ 5.9339,  2.7379,  4.0306,  1.0401]])}\n",
      "{'Y': array([2, 1, 2]), 'X': array([[ 7.9579,  3.9336,  6.5118,  2.1807],\n",
      "       [ 6.9516,  2.738 ,  4.8386,  1.4237],\n",
      "       [ 6.8627,  3.2009,  4.9941,  2.3365]])}\n",
      "{'Y': array([0, 0]), 'X': array([[ 4.709 ,  3.7289,  1.0802,  0.255 ],\n",
      "       [ 4.6119,  3.1035,  1.3833,  0.2398]])}\n"
     ]
    }
   ],
   "source": [
    "# What does the data stream look like?\n",
    "\n",
    "# First, we'll wrap the generator function in a Streamer object.\n",
    "# This is necessary for a few reasons, notably so that we can re-instantiate\n",
    "# the generator multiple times (eg once per epoch)\n",
    "\n",
    "stream = pescador.Streamer(data_generator, X, Y)\n",
    "\n",
    "# The buffer_batch() function takes a batch stream as input, and\n",
    "# carves it into batches of up to buffer_size (3, in this case) samples\n",
    "# the buffer size can be larger or smaller than the native size of the input batches\n",
    "for q in pescador.buffer_batch(stream.generate(max_items=1), 3):\n",
    "    print q"
   ]
  },
  {
   "cell_type": "markdown",
   "metadata": {},
   "source": [
    "# Benchmarking\n",
    "We can benchmark our learner's efficiency by running a couple of experiments on the Iris dataset.\n",
    "\n",
    "Our classifier will be L1-regularized logistic regression."
   ]
  },
  {
   "cell_type": "code",
   "execution_count": 24,
   "metadata": {
    "collapsed": false
   },
   "outputs": [
    {
     "name": "stdout",
     "output_type": "stream",
     "text": [
      "Test-set accuracy: 0.900\n",
      "Test-set accuracy: 0.900\n",
      "CPU times: user 8.35 s, sys: 39.9 ms, total: 8.39 s\n",
      "Wall time: 8.44 s\n"
     ]
    }
   ],
   "source": [
    "%%time\n",
    "for train, test in sklearn.cross_validation.ShuffleSplit(len(X),\n",
    "                                                         n_iter=2,\n",
    "                                                         test_size=0.2):\n",
    "    \n",
    "    # Make an SGD learner, nothing fancy here\n",
    "    classifier = sklearn.linear_model.SGDClassifier(verbose=0, \n",
    "                                                    loss='log',\n",
    "                                                    penalty='l1', \n",
    "                                                    n_iter=1)\n",
    "    \n",
    "    # Make a streamable wrapper\n",
    "    model = pescador.StreamLearner(classifier)\n",
    "    \n",
    "    # Again, build a streamer object\n",
    "    stream = pescador.Streamer(data_generator, X[train], Y[train])\n",
    "    \n",
    "    # we'll buffer into batches of 16 samples each\n",
    "    samples = pescador.buffer_batch(stream.generate(max_items=5e3),\n",
    "                                   16)\n",
    "    \n",
    "    # And train the model on the stream.\n",
    "    # iter_fit() works just like partial_fit(), except that the input is a generator.\n",
    "    model.iter_fit(samples, classes=classes)\n",
    "    \n",
    "    # How's it do on the test set?\n",
    "    print 'Test-set accuracy: %.3f' % sklearn.metrics.accuracy_score(Y[test], model.predict(X[test]))"
   ]
  },
  {
   "cell_type": "code",
   "execution_count": 25,
   "metadata": {
    "collapsed": false
   },
   "outputs": [
    {
     "data": {
      "text/plain": [
       "100001.0"
      ]
     },
     "execution_count": 25,
     "metadata": {},
     "output_type": "execute_result"
    }
   ],
   "source": [
    "# How many steps did the model run?\n",
    "model.estimator.t_"
   ]
  },
  {
   "cell_type": "markdown",
   "metadata": {},
   "source": [
    "# Parallelism\n",
    "\n",
    "It's possible that the learner is more or less efficient than the data generator.  If the data generator has higher latency than the learner (SGDClassifier), then this will slow down the learning.\n",
    "\n",
    "Pescador uses zeromq to parallelize data stream generation, effectively decoupling it from the learner."
   ]
  },
  {
   "cell_type": "code",
   "execution_count": 26,
   "metadata": {
    "collapsed": false
   },
   "outputs": [
    {
     "name": "stdout",
     "output_type": "stream",
     "text": [
      "Test-set accuracy: 1.000\n",
      "Test-set accuracy: 1.000\n",
      "CPU times: user 4.2 s, sys: 68.1 ms, total: 4.27 s\n",
      "Wall time: 4.23 s\n"
     ]
    }
   ],
   "source": [
    "%%time\n",
    "for train, test in sklearn.cross_validation.ShuffleSplit(len(X), n_iter=2, test_size=0.2):\n",
    "    \n",
    "    # Make an SGD learner, nothing fancy here\n",
    "    classifier = sklearn.linear_model.SGDClassifier(verbose=0, \n",
    "                                                    loss='log',\n",
    "                                                    penalty='l1', \n",
    "                                                    n_iter=1)\n",
    "    \n",
    "    # Make a streamable wrapper\n",
    "    model = pescador.StreamLearner(classifier)\n",
    "    \n",
    "    # First, turn the data_generator function into a Streamer object\n",
    "    stream = pescador.Streamer(data_generator, X[train], Y[train])\n",
    "    \n",
    "    # Then, send this thread to a second process\n",
    "    zmq_stream = pescador.zmq_stream(5156, stream, max_items=5e3)\n",
    "    \n",
    "    # Run the output through a second buffer for mini-batch training\n",
    "    samples = pescador.buffer_batch(zmq_stream, 16)\n",
    "    \n",
    "    # And fit on the stream\n",
    "    model.iter_fit(samples, classes=classes)\n",
    "    \n",
    "    # How's it do on the test set?\n",
    "    print 'Test-set accuracy: %.3f' % sklearn.metrics.accuracy_score(Y[test], model.predict(X[test]))"
   ]
  },
  {
   "cell_type": "code",
   "execution_count": 27,
   "metadata": {
    "collapsed": false
   },
   "outputs": [
    {
     "data": {
      "text/plain": [
       "70081.0"
      ]
     },
     "execution_count": 27,
     "metadata": {},
     "output_type": "execute_result"
    }
   ],
   "source": [
    "# How many steps did the model run?\n",
    "model.estimator.t_"
   ]
  }
 ],
 "metadata": {
  "kernelspec": {
   "display_name": "Python 2",
   "language": "python",
   "name": "python2"
  },
  "language_info": {
   "codemirror_mode": {
    "name": "ipython",
    "version": 2
   },
   "file_extension": ".py",
   "mimetype": "text/x-python",
   "name": "python",
   "nbconvert_exporter": "python",
   "pygments_lexer": "ipython2",
   "version": "2.7.8"
  }
 },
 "nbformat": 4,
 "nbformat_minor": 0
}

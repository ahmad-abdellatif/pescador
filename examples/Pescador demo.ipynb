{
 "cells": [
  {
   "cell_type": "markdown",
   "metadata": {},
   "source": [
    "# Pescador demo\n",
    "\n",
    "This notebook illustrates some of the basic functionality of [pescador](https://github.com/bmcfee/pescador): a package to facilitate iterative learning from data streams (implemented as python generators)."
   ]
  },
  {
   "cell_type": "code",
   "execution_count": 1,
   "metadata": {
    "collapsed": true
   },
   "outputs": [],
   "source": [
    "import pescador\n",
    "\n",
    "import numpy as np\n",
    "np.set_printoptions(precision=4)\n",
    "import sklearn\n",
    "import sklearn.datasets\n",
    "import sklearn.linear_model\n",
    "import sklearn.cross_validation\n",
    "import sklearn.metrics"
   ]
  },
  {
   "cell_type": "code",
   "execution_count": 2,
   "metadata": {
    "collapsed": false
   },
   "outputs": [],
   "source": [
    "def data_generator(X, Y, m=20, scale = 1e-1):\n",
    "    '''A gaussian noise generator for data\n",
    "    \n",
    "    Parameters\n",
    "    ----------\n",
    "    X : ndarray\n",
    "        features, n_samples by dimensions\n",
    "        \n",
    "    Y : ndarray\n",
    "        labels, n_samples\n",
    "        \n",
    "    m : int\n",
    "        size of the minibatches to generate\n",
    "        \n",
    "    scale : float > 0\n",
    "        scale of the noise to add\n",
    "        \n",
    "    Generates\n",
    "    ---------\n",
    "    batch\n",
    "        An infinite stream of batch dictionaries\n",
    "        batch = dict(X=X[i], Y=Y[i])\n",
    "    '''\n",
    "    \n",
    "    X = np.atleast_2d(X)\n",
    "    Y = np.atleast_1d(Y)\n",
    "\n",
    "    \n",
    "    n, d = X.shape\n",
    "    \n",
    "    while True:\n",
    "        i = np.random.randint(0, n, size=m)\n",
    "        \n",
    "        noise = scale * np.random.randn(m, d)\n",
    "        \n",
    "        yield {'X': X[i] + noise, 'Y': Y[i]}"
   ]
  },
  {
   "cell_type": "code",
   "execution_count": 3,
   "metadata": {
    "collapsed": true
   },
   "outputs": [],
   "source": [
    "# Load up the iris dataset for the demo\n",
    "data = sklearn.datasets.load_iris()\n",
    "X, Y = data.data, data.target\n",
    "classes = np.unique(Y)"
   ]
  },
  {
   "cell_type": "code",
   "execution_count": 4,
   "metadata": {
    "collapsed": false
   },
   "outputs": [
    {
     "name": "stdout",
     "output_type": "stream",
     "text": [
      "{'Y': array([0, 2, 0]), 'X': array([[ 5.111 ,  3.4651,  1.5395,  0.1581],\n",
      "       [ 7.7168,  3.7435,  6.7296,  2.2304],\n",
      "       [ 4.804 ,  3.6848,  1.384 ,  0.168 ]])}\n",
      "{'Y': array([0, 0, 1]), 'X': array([[ 5.3667,  3.8719,  1.4993,  0.1568],\n",
      "       [ 4.5084,  3.2853,  1.3485,  0.1768],\n",
      "       [ 5.5969,  3.1929,  4.0782,  1.1483]])}\n",
      "{'Y': array([0, 1, 2]), 'X': array([[ 4.4934,  3.08  ,  1.402 ,  0.3167],\n",
      "       [ 6.9038,  2.8601,  4.716 ,  1.3107],\n",
      "       [ 6.8751,  3.119 ,  5.1122,  2.197 ]])}\n",
      "{'Y': array([2, 2, 1]), 'X': array([[ 6.391 ,  2.9923,  5.3609,  1.7917],\n",
      "       [ 6.3414,  3.3781,  5.4042,  2.3355],\n",
      "       [ 5.7415,  2.6693,  4.0282,  1.3673]])}\n",
      "{'Y': array([2, 0, 1]), 'X': array([[ 7.5801,  2.9956,  6.0487,  2.388 ],\n",
      "       [ 5.0181,  3.427 ,  1.3916,  0.2538],\n",
      "       [ 5.4109,  3.0184,  4.5518,  1.4583]])}\n",
      "{'Y': array([1, 2, 0]), 'X': array([[ 6.672 ,  3.1787,  4.5161,  1.4835],\n",
      "       [ 7.045 ,  2.9664,  5.8848,  1.5716],\n",
      "       [ 5.6515,  3.8174,  1.7312,  0.1626]])}\n",
      "{'Y': array([2, 0]), 'X': array([[ 5.7626,  2.6449,  5.0373,  2.3452],\n",
      "       [ 4.8087,  3.3817,  1.59  ,  0.3266]])}\n"
     ]
    }
   ],
   "source": [
    "# What does the data stream look like?\n",
    "\n",
    "# First, we'll wrap the generator function in a Streamer object.\n",
    "# This is necessary for a few reasons, notably so that we can re-instantiate\n",
    "# the generator multiple times (eg once per epoch)\n",
    "\n",
    "stream = pescador.Streamer(data_generator, X, Y)\n",
    "\n",
    "# The buffer_batch() function takes a batch stream as input, and\n",
    "# carves it into batches of up to buffer_size (3, in this case) samples\n",
    "# the buffer size can be larger or smaller than the native size of the input batches\n",
    "for q in pescador.buffer_batch(stream.generate(max_batches=1), 3):\n",
    "    print q"
   ]
  },
  {
   "cell_type": "markdown",
   "metadata": {},
   "source": [
    "# Benchmarking\n",
    "We can benchmark our learner's efficiency by running a couple of experiments on the Iris dataset.\n",
    "\n",
    "Our classifier will be L1-regularized logistic regression."
   ]
  },
  {
   "cell_type": "code",
   "execution_count": 6,
   "metadata": {
    "collapsed": false
   },
   "outputs": [
    {
     "name": "stdout",
     "output_type": "stream",
     "text": [
      "Test-set accuracy: 1.000\n",
      "# Steps: 100001.0\n",
      "Test-set accuracy: 0.967\n",
      "# Steps: 100001.0\n",
      "CPU times: user 3.61 s, sys: 830 µs, total: 3.61 s\n",
      "Wall time: 3.62 s\n"
     ]
    }
   ],
   "source": [
    "%%time\n",
    "for train, test in sklearn.cross_validation.ShuffleSplit(len(X),\n",
    "                                                         n_iter=2,\n",
    "                                                         test_size=0.2):\n",
    "    \n",
    "    # Make an SGD learner, nothing fancy here\n",
    "    classifier = sklearn.linear_model.SGDClassifier(verbose=0, \n",
    "                                                    loss='log',\n",
    "                                                    penalty='l1', \n",
    "                                                    n_iter=1)\n",
    "    \n",
    "    # Make a streamable wrapper\n",
    "    model = pescador.StreamLearner(classifier)\n",
    "    \n",
    "    # Again, build a streamer object\n",
    "    stream = pescador.Streamer(data_generator, X[train], Y[train])\n",
    "    \n",
    "    samples = stream.generate(max_batches=5e3)\n",
    "    \n",
    "    # And train the model on the stream.\n",
    "    # iter_fit() works just like partial_fit(), except that the input is a generator.\n",
    "    model.iter_fit(samples, classes=classes)\n",
    "    \n",
    "    # How's it do on the test set?\n",
    "    print 'Test-set accuracy: {:.3f}'.format(sklearn.metrics.accuracy_score(Y[test], model.predict(X[test])))\n",
    "    print '# Steps: ' + str(model.estimator.t_)"
   ]
  },
  {
   "cell_type": "markdown",
   "metadata": {},
   "source": [
    "# Parallelism\n",
    "\n",
    "It's possible that the learner is more or less efficient than the data generator.  If the data generator has higher latency than the learner (SGDClassifier), then this will slow down the learning.\n",
    "\n",
    "Pescador uses zeromq to parallelize data stream generation, effectively decoupling it from the learner."
   ]
  },
  {
   "cell_type": "code",
   "execution_count": 7,
   "metadata": {
    "collapsed": false
   },
   "outputs": [
    {
     "name": "stdout",
     "output_type": "stream",
     "text": [
      "Test-set accuracy: 0.867\n",
      "# Steps: 9081.0\n",
      "Test-set accuracy: 0.933\n",
      "# Steps: 8461.0\n",
      "CPU times: user 526 ms, sys: 56.1 ms, total: 582 ms\n",
      "Wall time: 520 ms\n"
     ]
    }
   ],
   "source": [
    "%%time\n",
    "for train, test in sklearn.cross_validation.ShuffleSplit(len(X), n_iter=2, test_size=0.2):\n",
    "    \n",
    "    # Make an SGD learner, nothing fancy here\n",
    "    classifier = sklearn.linear_model.SGDClassifier(verbose=0, \n",
    "                                                    loss='log',\n",
    "                                                    penalty='l1', \n",
    "                                                    n_iter=1)\n",
    "    \n",
    "    # Make a streamable wrapper\n",
    "    model = pescador.StreamLearner(classifier)\n",
    "    \n",
    "    # First, turn the data_generator function into a Streamer object\n",
    "    stream = pescador.Streamer(data_generator, X[train], Y[train])\n",
    "    \n",
    "    # Then, send this thread to a second process\n",
    "    zmq_stream = pescador.zmq_stream(5156, stream, max_batches=5e3)\n",
    "    \n",
    "    # Run the output through a second buffer for mini-batch training\n",
    "    #samples = pescador.buffer_batch(zmq_stream, 20)\n",
    "    samples = zmq_stream\n",
    "    \n",
    "    # And fit on the stream\n",
    "    model.iter_fit(samples, classes=classes)\n",
    "    \n",
    "    # How's it do on the test set?\n",
    "    print 'Test-set accuracy: {:.3f}'.format(sklearn.metrics.accuracy_score(Y[test], model.predict(X[test])))\n",
    "    print '# Steps: ' + str(model.estimator.t_)"
   ]
  },
  {
   "cell_type": "code",
   "execution_count": null,
   "metadata": {
    "collapsed": true
   },
   "outputs": [],
   "source": []
  }
 ],
 "metadata": {
  "kernelspec": {
   "display_name": "Python 2",
   "language": "python",
   "name": "python2"
  },
  "language_info": {
   "codemirror_mode": {
    "name": "ipython",
    "version": 2
   },
   "file_extension": ".py",
   "mimetype": "text/x-python",
   "name": "python",
   "nbconvert_exporter": "python",
   "pygments_lexer": "ipython2",
   "version": "2.7.8"
  }
 },
 "nbformat": 4,
 "nbformat_minor": 0
}

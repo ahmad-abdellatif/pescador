{
 "cells": [
  {
   "cell_type": "markdown",
   "metadata": {},
   "source": [
    "# Pescador demo\n",
    "\n",
    "This notebook illustrates some of the basic functionality of [pescador](https://github.com/bmcfee/pescador): a package to facilitate iterative learning from data streams (implemented as python generators)."
   ]
  },
  {
   "cell_type": "code",
   "execution_count": 1,
   "metadata": {
    "collapsed": false
   },
   "outputs": [],
   "source": [
    "import pescador\n",
    "\n",
    "import numpy as np\n",
    "np.set_printoptions(precision=4)\n",
    "import sklearn\n",
    "import sklearn.datasets\n",
    "import sklearn.linear_model\n",
    "import sklearn.model_selection\n",
    "import sklearn.metrics"
   ]
  },
  {
   "cell_type": "code",
   "execution_count": 2,
   "metadata": {
    "collapsed": false
   },
   "outputs": [],
   "source": [
    "def data_generator(X, Y, m=20, scale = 1e-1):\n",
    "    '''A gaussian noise generator for data\n",
    "    \n",
    "    Parameters\n",
    "    ----------\n",
    "    X : ndarray\n",
    "        features, n_samples by dimensions\n",
    "        \n",
    "    Y : ndarray\n",
    "        labels, n_samples\n",
    "        \n",
    "    m : int\n",
    "        size of the minibatches to generate\n",
    "        \n",
    "    scale : float > 0\n",
    "        scale of the noise to add\n",
    "        \n",
    "    Generates\n",
    "    ---------\n",
    "    batch\n",
    "        An infinite stream of batch dictionaries\n",
    "        batch = dict(X=X[i], Y=Y[i])\n",
    "    '''\n",
    "    \n",
    "    X = np.atleast_2d(X)\n",
    "    Y = np.atleast_1d(Y)\n",
    "\n",
    "    \n",
    "    n, d = X.shape\n",
    "    \n",
    "    while True:\n",
    "        i = np.random.randint(0, n, size=m)\n",
    "        \n",
    "        noise = scale * np.random.randn(m, d)\n",
    "        \n",
    "        yield {'X': X[i] + noise, 'Y': Y[i]}"
   ]
  },
  {
   "cell_type": "code",
   "execution_count": 3,
   "metadata": {
    "collapsed": true
   },
   "outputs": [],
   "source": [
    "# Load up the iris dataset for the demo\n",
    "data = sklearn.datasets.load_iris()\n",
    "X, Y = data.data, data.target\n",
    "classes = np.unique(Y)"
   ]
  },
  {
   "cell_type": "code",
   "execution_count": 4,
   "metadata": {
    "collapsed": false
   },
   "outputs": [
    {
     "name": "stdout",
     "output_type": "stream",
     "text": [
      "{'X': array([[ 5.0841,  3.4094,  1.6031,  0.661 ],\n",
      "       [ 6.4516,  2.6899,  5.3236,  1.8523],\n",
      "       [ 5.1093,  3.4024,  1.4215,  0.2673]]), 'Y': array([0, 2, 0])}\n",
      "{'X': array([[ 6.2578,  3.1387,  5.2456,  2.2445],\n",
      "       [ 6.3599,  2.7933,  5.4971,  1.9203],\n",
      "       [ 6.0606,  2.2571,  5.121 ,  1.5348]]), 'Y': array([2, 2, 2])}\n",
      "{'X': array([[ 5.6751,  2.6475,  3.8321,  1.1055],\n",
      "       [ 7.6561,  2.8387,  6.5888,  1.8972],\n",
      "       [ 5.2579,  3.6381,  1.622 ,  0.1337]]), 'Y': array([1, 2, 0])}\n"
     ]
    }
   ],
   "source": [
    "# What does the data stream look like?\n",
    "\n",
    "# First, we'll wrap the generator function in a Streamer object.\n",
    "# This is necessary for a few reasons, notably so that we can re-instantiate\n",
    "# the generator multiple times (eg once per epoch)\n",
    "\n",
    "stream = pescador.Streamer(data_generator, X, Y)\n",
    "\n",
    "# The BufferedStreamer class takes any Streamer as input, and\n",
    "# carves it into batches of up to buffer_size (3, in this case) samples\n",
    "# the buffer size can be larger or smaller than the native size of the input batches\n",
    "for q in pescador.BufferedStreamer(stream, 3).generate(max_batches=3):\n",
    "    print(q)"
   ]
  },
  {
   "cell_type": "markdown",
   "metadata": {},
   "source": [
    "# Benchmarking\n",
    "We can benchmark our learner's efficiency by running a couple of experiments on the Iris dataset.\n",
    "\n",
    "Our classifier will be L1-regularized logistic regression."
   ]
  },
  {
   "cell_type": "code",
   "execution_count": 5,
   "metadata": {
    "collapsed": false
   },
   "outputs": [
    {
     "name": "stdout",
     "output_type": "stream",
     "text": [
      "Test-set accuracy: 0.967\n",
      "# Steps:  5000\n",
      "Test-set accuracy: 1.000\n",
      "# Steps:  5000\n",
      "CPU times: user 7.48 s, sys: 43.8 ms, total: 7.53 s\n",
      "Wall time: 7.73 s\n"
     ]
    }
   ],
   "source": [
    "%%time\n",
    "ss = sklearn.model_selection.ShuffleSplit(n_splits=2, test_size=0.2)\n",
    "for train, test in ss.split(np.arange(len(X))):\n",
    "    \n",
    "    # Make an SGD learner, nothing fancy here\n",
    "    classifier = sklearn.linear_model.SGDClassifier(verbose=0, \n",
    "                                                    loss='log',\n",
    "                                                    penalty='l1', \n",
    "                                                    n_iter=1)\n",
    "    \n",
    "    # Again, build a streamer object\n",
    "    stream = pescador.Streamer(data_generator, X[train], Y[train])\n",
    "    \n",
    "    # And train the model on the stream.\n",
    "    n_steps = 0\n",
    "    for batch in stream.generate(max_batches=5e3):\n",
    "        classifier.partial_fit(batch['X'], batch['Y'], classes=classes)\n",
    "        \n",
    "        n_steps += 1\n",
    "    \n",
    "    # How's it do on the test set?\n",
    "    print('Test-set accuracy: {:.3f}'.format(sklearn.metrics.accuracy_score(Y[test], classifier.predict(X[test]))))\n",
    "    print('# Steps: ', n_steps)"
   ]
  },
  {
   "cell_type": "markdown",
   "metadata": {},
   "source": [
    "# Parallelism\n",
    "\n",
    "It's possible that the learner is more or less efficient than the data generator.  If the data generator has higher latency than the learner (SGDClassifier), then this will slow down the learning.\n",
    "\n",
    "Pescador uses zeromq to parallelize data stream generation, effectively decoupling it from the learner."
   ]
  },
  {
   "cell_type": "code",
   "execution_count": 6,
   "metadata": {
    "collapsed": false
   },
   "outputs": [
    {
     "name": "stdout",
     "output_type": "stream",
     "text": [
      "Test-set accuracy: 0.933\n",
      "# Steps:  5000\n",
      "Test-set accuracy: 1.000\n",
      "# Steps:  5000\n",
      "CPU times: user 7.45 s, sys: 111 ms, total: 7.56 s\n",
      "Wall time: 7.67 s\n"
     ]
    }
   ],
   "source": [
    "%%time\n",
    "ss = sklearn.model_selection.ShuffleSplit(n_splits=2, test_size=0.2)\n",
    "for train, test in ss.split(np.arange(len(X))):\n",
    "    \n",
    "    # Make an SGD learner, nothing fancy here\n",
    "    classifier = sklearn.linear_model.SGDClassifier(verbose=0, \n",
    "                                                    loss='log',\n",
    "                                                    penalty='l1', \n",
    "                                                    n_iter=1)\n",
    "    \n",
    "    # First, turn the data_generator function into a Streamer object\n",
    "    stream = pescador.Streamer(data_generator, X[train], Y[train])\n",
    "    \n",
    "    # Then, send this thread to a second process\n",
    "    zmq_stream = pescador.ZMQStreamer(stream, 5156)\n",
    "    \n",
    "    # Run the output through a second buffer for mini-batch training\n",
    "#     bufferd_stream = pescador.BufferedStreamer(zmq_stream, 20)\n",
    "    \n",
    "    # And train the model on the stream.\n",
    "    n_steps = 0\n",
    "    for batch in zmq_stream.generate(max_batches=5e3):\n",
    "        classifier.partial_fit(batch['X'], batch['Y'], classes=classes)\n",
    "        \n",
    "        n_steps += 1\n",
    "    \n",
    "    # How's it do on the test set?\n",
    "    print('Test-set accuracy: {:.3f}'.format(sklearn.metrics.accuracy_score(Y[test], classifier.predict(X[test]))))\n",
    "    print('# Steps: ', n_steps)"
   ]
  },
  {
   "cell_type": "code",
   "execution_count": null,
   "metadata": {
    "collapsed": true
   },
   "outputs": [],
   "source": []
  }
 ],
 "metadata": {
  "kernelspec": {
   "display_name": "Python 3",
   "language": "python",
   "name": "python3"
  },
  "language_info": {
   "codemirror_mode": {
    "name": "ipython",
    "version": 3
   },
   "file_extension": ".py",
   "mimetype": "text/x-python",
   "name": "python",
   "nbconvert_exporter": "python",
   "pygments_lexer": "ipython3",
   "version": "3.5.2"
  }
 },
 "nbformat": 4,
 "nbformat_minor": 0
}
